{
 "cells": [
  {
   "cell_type": "markdown",
   "id": "367ff252",
   "metadata": {},
   "source": [
    "# Data Science Fundación YPF + Ingenias\n",
    "### Grupo 10\n",
    "## EDA II : En esta notebook realizamos una nueva limpieza sobre el dataset, renombrando columnas y recategorizando variables. Además a partir de esta notebook creamos los 6 datasets individuales que usaremos para cada una de als fuentes de energía que luego serán modelados individualmente."
   ]
  },
  {
   "cell_type": "code",
   "execution_count": 16,
   "id": "4806cef2",
   "metadata": {
    "id": "4806cef2"
   },
   "outputs": [],
   "source": [
    "# Importamos las librerias que usaremos\n",
    "import pandas as pd\n",
    "import numpy as np"
   ]
  },
  {
   "cell_type": "markdown",
   "id": "be25b944",
   "metadata": {
    "id": "be25b944"
   },
   "source": [
    "Leemos los datos limpios y procesados."
   ]
  },
  {
   "cell_type": "code",
   "execution_count": 15,
   "id": "b80d5681",
   "metadata": {
    "id": "b80d5681"
   },
   "outputs": [],
   "source": [
    "# Leemos nuevamente los datos de er\n",
    "er_limpio = pd.read_csv('er_limpio.csv')\n",
    "er_limpio.drop('Unnamed: 0', axis=1, inplace=True)"
   ]
  },
  {
   "cell_type": "markdown",
   "id": "f79e8db7",
   "metadata": {
    "id": "f79e8db7"
   },
   "source": [
    "<font color='red'> El archivo er_limpio.csv no contiene la columna <b>\"Nueva Generación\"</b>, ya que no contiene información relevante para nuestro proyecto </font>"
   ]
  },
  {
   "cell_type": "code",
   "execution_count": 5,
   "id": "3d3db184",
   "metadata": {
    "id": "3d3db184",
    "outputId": "5d97d740-27e2-4408-b623-0ee983b87ce0"
   },
   "outputs": [
    {
     "name": "stdout",
     "output_type": "stream",
     "text": [
      "<class 'pandas.core.frame.DataFrame'>\n",
      "RangeIndex: 15847 entries, 0 to 15846\n",
      "Data columns (total 9 columns):\n",
      " #   Column       Non-Null Count  Dtype  \n",
      "---  ------       --------------  -----  \n",
      " 0   anio         15847 non-null  int64  \n",
      " 1   central      15847 non-null  object \n",
      " 2   central_des  15847 non-null  object \n",
      " 3   maquina      15847 non-null  object \n",
      " 4   fuente_de    15847 non-null  object \n",
      " 5   region       15847 non-null  object \n",
      " 6   prov         15847 non-null  object \n",
      " 7   mes          15847 non-null  int64  \n",
      " 8   energia_gen  15847 non-null  float64\n",
      "dtypes: float64(1), int64(2), object(6)\n",
      "memory usage: 1.1+ MB\n"
     ]
    }
   ],
   "source": [
    "# Vemos los datos que contiene el archivo\n",
    "er_limpio.info()"
   ]
  },
  {
   "cell_type": "markdown",
   "id": "42839bd9",
   "metadata": {
    "id": "42839bd9"
   },
   "source": [
    "## Transformación de variables"
   ]
  },
  {
   "cell_type": "markdown",
   "id": "87171da8",
   "metadata": {
    "id": "87171da8"
   },
   "source": [
    "Convertimos las variables categoricas <b>'fuente_de', 'region' y 'prov'</b> en su representación numerica."
   ]
  },
  {
   "cell_type": "markdown",
   "id": "3d7b4017",
   "metadata": {
    "id": "3d7b4017"
   },
   "source": [
    "**`get_dummies()`**"
   ]
  },
  {
   "cell_type": "code",
   "execution_count": 23,
   "id": "47d06e24",
   "metadata": {
    "id": "47d06e24"
   },
   "outputs": [],
   "source": [
    "categorias = pd.get_dummies(er_limpio['fuente_de'], prefix = 'f')"
   ]
  },
  {
   "cell_type": "code",
   "execution_count": 24,
   "id": "0fd01fc6",
   "metadata": {
    "id": "0fd01fc6"
   },
   "outputs": [],
   "source": [
    "er_limpio = pd.concat([er_limpio.drop('fuente_de', axis = 1),categorias], axis = 1)"
   ]
  },
  {
   "cell_type": "markdown",
   "id": "708ddb65",
   "metadata": {
    "id": "708ddb65"
   },
   "source": [
    "**`LabelEncoder()`**"
   ]
  },
  {
   "cell_type": "code",
   "execution_count": 19,
   "id": "dd8f62b1",
   "metadata": {
    "id": "dd8f62b1"
   },
   "outputs": [],
   "source": [
    "from sklearn.preprocessing import LabelEncoder"
   ]
  },
  {
   "cell_type": "code",
   "execution_count": 20,
   "id": "2d600043",
   "metadata": {
    "id": "2d600043"
   },
   "outputs": [],
   "source": [
    "test_encoder = LabelEncoder()"
   ]
  },
  {
   "cell_type": "code",
   "execution_count": 21,
   "id": "ccbf161c",
   "metadata": {
    "id": "ccbf161c"
   },
   "outputs": [],
   "source": [
    "er_limpio['prov'] = test_encoder.fit_transform(er_limpio['prov'])"
   ]
  },
  {
   "cell_type": "code",
   "execution_count": 22,
   "id": "4a1c5046",
   "metadata": {
    "id": "4a1c5046",
    "outputId": "97a40255-e3fd-4a86-a414-4c3103e57d5f"
   },
   "outputs": [
    {
     "data": {
      "text/plain": [
       "array(['BUENOS AIRES', 'CATAMARCA', 'CHACO', 'CHUBUT', 'CORDOBA',\n",
       "       'CORRIENTES', 'JUJUY', 'LA PAMPA', 'LA RIOJA', 'MENDOZA',\n",
       "       'MISIONES', 'NEUQUÉN', 'RIO NEGRO', 'SALTA', 'SAN JUAN',\n",
       "       'SAN LUIS', 'SANTA CRUZ', 'SANTA FE', 'SANTIAGO DEL ESTERO',\n",
       "       'TUCUMAN'], dtype=object)"
      ]
     },
     "execution_count": 22,
     "metadata": {},
     "output_type": "execute_result"
    }
   ],
   "source": [
    "test_encoder.classes_"
   ]
  },
  {
   "cell_type": "code",
   "execution_count": 26,
   "id": "1b71975b",
   "metadata": {
    "id": "1b71975b"
   },
   "outputs": [],
   "source": [
    "er_limpio['region'] = test_encoder.fit_transform(er_limpio['region'])"
   ]
  },
  {
   "cell_type": "code",
   "execution_count": 27,
   "id": "cbbeb19a",
   "metadata": {
    "id": "cbbeb19a",
    "outputId": "b6ef981f-37cc-4d43-a27d-9414c7fd2982"
   },
   "outputs": [
    {
     "data": {
      "text/plain": [
       "array([0, 1, 2, 3, 4, 5, 6, 7, 8])"
      ]
     },
     "execution_count": 27,
     "metadata": {},
     "output_type": "execute_result"
    }
   ],
   "source": [
    "test_encoder.classes_"
   ]
  },
  {
   "cell_type": "code",
   "execution_count": 28,
   "id": "8eacfb7d",
   "metadata": {
    "id": "8eacfb7d",
    "outputId": "5e0ede40-1d16-453a-e893-13f61904c545"
   },
   "outputs": [
    {
     "data": {
      "text/html": [
       "<div>\n",
       "<style scoped>\n",
       "    .dataframe tbody tr th:only-of-type {\n",
       "        vertical-align: middle;\n",
       "    }\n",
       "\n",
       "    .dataframe tbody tr th {\n",
       "        vertical-align: top;\n",
       "    }\n",
       "\n",
       "    .dataframe thead th {\n",
       "        text-align: right;\n",
       "    }\n",
       "</style>\n",
       "<table border=\"1\" class=\"dataframe\">\n",
       "  <thead>\n",
       "    <tr style=\"text-align: right;\">\n",
       "      <th></th>\n",
       "      <th>anio</th>\n",
       "      <th>central</th>\n",
       "      <th>central_des</th>\n",
       "      <th>maquina</th>\n",
       "      <th>region</th>\n",
       "      <th>prov</th>\n",
       "      <th>mes</th>\n",
       "      <th>energia_gen</th>\n",
       "      <th>f_BIODIESEL</th>\n",
       "      <th>f_BIOGAS</th>\n",
       "      <th>f_BIOMASA</th>\n",
       "      <th>f_EOLICO</th>\n",
       "      <th>f_HIDRO &lt;=50MW</th>\n",
       "      <th>f_SOLAR</th>\n",
       "    </tr>\n",
       "  </thead>\n",
       "  <tbody>\n",
       "    <tr>\n",
       "      <th>0</th>\n",
       "      <td>2011</td>\n",
       "      <td>AESP</td>\n",
       "      <td>AES PARANA</td>\n",
       "      <td>AESPCC01</td>\n",
       "      <td>5</td>\n",
       "      <td>0</td>\n",
       "      <td>1</td>\n",
       "      <td>0.0</td>\n",
       "      <td>1</td>\n",
       "      <td>0</td>\n",
       "      <td>0</td>\n",
       "      <td>0</td>\n",
       "      <td>0</td>\n",
       "      <td>0</td>\n",
       "    </tr>\n",
       "    <tr>\n",
       "      <th>1</th>\n",
       "      <td>2011</td>\n",
       "      <td>AESP</td>\n",
       "      <td>AES PARANA</td>\n",
       "      <td>AESPCC02</td>\n",
       "      <td>5</td>\n",
       "      <td>0</td>\n",
       "      <td>1</td>\n",
       "      <td>0.0</td>\n",
       "      <td>1</td>\n",
       "      <td>0</td>\n",
       "      <td>0</td>\n",
       "      <td>0</td>\n",
       "      <td>0</td>\n",
       "      <td>0</td>\n",
       "    </tr>\n",
       "    <tr>\n",
       "      <th>2</th>\n",
       "      <td>2011</td>\n",
       "      <td>AMEGHI</td>\n",
       "      <td>F. AMEGHINO</td>\n",
       "      <td>AMEGHI</td>\n",
       "      <td>8</td>\n",
       "      <td>3</td>\n",
       "      <td>1</td>\n",
       "      <td>13.8</td>\n",
       "      <td>0</td>\n",
       "      <td>0</td>\n",
       "      <td>0</td>\n",
       "      <td>0</td>\n",
       "      <td>1</td>\n",
       "      <td>0</td>\n",
       "    </tr>\n",
       "    <tr>\n",
       "      <th>3</th>\n",
       "      <td>2011</td>\n",
       "      <td>ARAUEO</td>\n",
       "      <td>ARAUCO EOLICO</td>\n",
       "      <td>ARAUEO</td>\n",
       "      <td>7</td>\n",
       "      <td>8</td>\n",
       "      <td>1</td>\n",
       "      <td>0.1</td>\n",
       "      <td>0</td>\n",
       "      <td>0</td>\n",
       "      <td>0</td>\n",
       "      <td>1</td>\n",
       "      <td>0</td>\n",
       "      <td>0</td>\n",
       "    </tr>\n",
       "    <tr>\n",
       "      <th>4</th>\n",
       "      <td>2011</td>\n",
       "      <td>CACVHI</td>\n",
       "      <td>C.H.CACHEUTA VI</td>\n",
       "      <td>CACVHI</td>\n",
       "      <td>3</td>\n",
       "      <td>9</td>\n",
       "      <td>1</td>\n",
       "      <td>0.0</td>\n",
       "      <td>0</td>\n",
       "      <td>0</td>\n",
       "      <td>0</td>\n",
       "      <td>0</td>\n",
       "      <td>1</td>\n",
       "      <td>0</td>\n",
       "    </tr>\n",
       "    <tr>\n",
       "      <th>...</th>\n",
       "      <td>...</td>\n",
       "      <td>...</td>\n",
       "      <td>...</td>\n",
       "      <td>...</td>\n",
       "      <td>...</td>\n",
       "      <td>...</td>\n",
       "      <td>...</td>\n",
       "      <td>...</td>\n",
       "      <td>...</td>\n",
       "      <td>...</td>\n",
       "      <td>...</td>\n",
       "      <td>...</td>\n",
       "      <td>...</td>\n",
       "      <td>...</td>\n",
       "    </tr>\n",
       "    <tr>\n",
       "      <th>15842</th>\n",
       "      <td>2023</td>\n",
       "      <td>SARC</td>\n",
       "      <td>SARMIENTO SJ</td>\n",
       "      <td>SARCTG22</td>\n",
       "      <td>3</td>\n",
       "      <td>14</td>\n",
       "      <td>6</td>\n",
       "      <td>0.0</td>\n",
       "      <td>1</td>\n",
       "      <td>0</td>\n",
       "      <td>0</td>\n",
       "      <td>0</td>\n",
       "      <td>0</td>\n",
       "      <td>0</td>\n",
       "    </tr>\n",
       "    <tr>\n",
       "      <th>15843</th>\n",
       "      <td>2023</td>\n",
       "      <td>SEMIHI</td>\n",
       "      <td>SEMINO</td>\n",
       "      <td>SEMINO</td>\n",
       "      <td>5</td>\n",
       "      <td>17</td>\n",
       "      <td>6</td>\n",
       "      <td>0.0</td>\n",
       "      <td>0</td>\n",
       "      <td>0</td>\n",
       "      <td>0</td>\n",
       "      <td>0</td>\n",
       "      <td>1</td>\n",
       "      <td>0</td>\n",
       "    </tr>\n",
       "    <tr>\n",
       "      <th>15844</th>\n",
       "      <td>2023</td>\n",
       "      <td>SNIC</td>\n",
       "      <td>SAN NICOLAS</td>\n",
       "      <td>SNICTG01</td>\n",
       "      <td>5</td>\n",
       "      <td>0</td>\n",
       "      <td>6</td>\n",
       "      <td>0.0</td>\n",
       "      <td>1</td>\n",
       "      <td>0</td>\n",
       "      <td>0</td>\n",
       "      <td>0</td>\n",
       "      <td>0</td>\n",
       "      <td>0</td>\n",
       "    </tr>\n",
       "    <tr>\n",
       "      <th>15845</th>\n",
       "      <td>2023</td>\n",
       "      <td>TIMB</td>\n",
       "      <td>CT TIMBUES (GSMA)</td>\n",
       "      <td>TIMBCC02</td>\n",
       "      <td>5</td>\n",
       "      <td>17</td>\n",
       "      <td>6</td>\n",
       "      <td>0.0</td>\n",
       "      <td>1</td>\n",
       "      <td>0</td>\n",
       "      <td>0</td>\n",
       "      <td>0</td>\n",
       "      <td>0</td>\n",
       "      <td>0</td>\n",
       "    </tr>\n",
       "    <tr>\n",
       "      <th>15846</th>\n",
       "      <td>2023</td>\n",
       "      <td>SMAN</td>\n",
       "      <td>S.MARTIN NORTE</td>\n",
       "      <td>SMANDI01</td>\n",
       "      <td>4</td>\n",
       "      <td>0</td>\n",
       "      <td>6</td>\n",
       "      <td>0.0</td>\n",
       "      <td>0</td>\n",
       "      <td>1</td>\n",
       "      <td>0</td>\n",
       "      <td>0</td>\n",
       "      <td>0</td>\n",
       "      <td>0</td>\n",
       "    </tr>\n",
       "  </tbody>\n",
       "</table>\n",
       "<p>15847 rows × 14 columns</p>\n",
       "</div>"
      ],
      "text/plain": [
       "       anio central        central_des   maquina  region  prov  mes  \\\n",
       "0      2011    AESP         AES PARANA  AESPCC01       5     0    1   \n",
       "1      2011    AESP         AES PARANA  AESPCC02       5     0    1   \n",
       "2      2011  AMEGHI        F. AMEGHINO    AMEGHI       8     3    1   \n",
       "3      2011  ARAUEO      ARAUCO EOLICO    ARAUEO       7     8    1   \n",
       "4      2011  CACVHI    C.H.CACHEUTA VI    CACVHI       3     9    1   \n",
       "...     ...     ...                ...       ...     ...   ...  ...   \n",
       "15842  2023    SARC       SARMIENTO SJ  SARCTG22       3    14    6   \n",
       "15843  2023  SEMIHI             SEMINO    SEMINO       5    17    6   \n",
       "15844  2023    SNIC        SAN NICOLAS  SNICTG01       5     0    6   \n",
       "15845  2023    TIMB  CT TIMBUES (GSMA)  TIMBCC02       5    17    6   \n",
       "15846  2023    SMAN     S.MARTIN NORTE  SMANDI01       4     0    6   \n",
       "\n",
       "       energia_gen  f_BIODIESEL  f_BIOGAS  f_BIOMASA  f_EOLICO  \\\n",
       "0              0.0            1         0          0         0   \n",
       "1              0.0            1         0          0         0   \n",
       "2             13.8            0         0          0         0   \n",
       "3              0.1            0         0          0         1   \n",
       "4              0.0            0         0          0         0   \n",
       "...            ...          ...       ...        ...       ...   \n",
       "15842          0.0            1         0          0         0   \n",
       "15843          0.0            0         0          0         0   \n",
       "15844          0.0            1         0          0         0   \n",
       "15845          0.0            1         0          0         0   \n",
       "15846          0.0            0         1          0         0   \n",
       "\n",
       "       f_HIDRO <=50MW  f_SOLAR  \n",
       "0                   0        0  \n",
       "1                   0        0  \n",
       "2                   1        0  \n",
       "3                   0        0  \n",
       "4                   1        0  \n",
       "...               ...      ...  \n",
       "15842               0        0  \n",
       "15843               1        0  \n",
       "15844               0        0  \n",
       "15845               0        0  \n",
       "15846               0        0  \n",
       "\n",
       "[15847 rows x 14 columns]"
      ]
     },
     "execution_count": 28,
     "metadata": {},
     "output_type": "execute_result"
    }
   ],
   "source": [
    "er_limpio"
   ]
  },
  {
   "cell_type": "markdown",
   "id": "3936be2f",
   "metadata": {
    "id": "3936be2f"
   },
   "source": [
    "Se eliminan todas las columnas que no serán usadas en el modelo, sólo se deja una fuente de energía "
   ]
  },
  {
   "cell_type": "code",
   "execution_count": 38,
   "id": "fbf40f5f",
   "metadata": {
    "id": "fbf40f5f"
   },
   "outputs": [
    {
     "ename": "KeyError",
     "evalue": "\"['maquina'] not found in axis\"",
     "output_type": "error",
     "traceback": [
      "\u001b[1;31m---------------------------------------------------------------------------\u001b[0m",
      "\u001b[1;31mKeyError\u001b[0m                                  Traceback (most recent call last)",
      "Cell \u001b[1;32mIn[38], line 1\u001b[0m\n\u001b[1;32m----> 1\u001b[0m er_limpio\u001b[38;5;241m.\u001b[39mdrop(\u001b[38;5;124m'\u001b[39m\u001b[38;5;124mmaquina\u001b[39m\u001b[38;5;124m'\u001b[39m, axis\u001b[38;5;241m=\u001b[39m\u001b[38;5;241m1\u001b[39m, inplace\u001b[38;5;241m=\u001b[39m\u001b[38;5;28;01mTrue\u001b[39;00m)\n\u001b[0;32m      2\u001b[0m er_limpio\u001b[38;5;241m.\u001b[39mdrop(\u001b[38;5;124m'\u001b[39m\u001b[38;5;124mcentral\u001b[39m\u001b[38;5;124m'\u001b[39m, axis\u001b[38;5;241m=\u001b[39m\u001b[38;5;241m1\u001b[39m, inplace\u001b[38;5;241m=\u001b[39m\u001b[38;5;28;01mTrue\u001b[39;00m)\n\u001b[0;32m      3\u001b[0m er_limpio\u001b[38;5;241m.\u001b[39mdrop(\u001b[38;5;124m'\u001b[39m\u001b[38;5;124mcentral_des\u001b[39m\u001b[38;5;124m'\u001b[39m, axis\u001b[38;5;241m=\u001b[39m\u001b[38;5;241m1\u001b[39m, inplace\u001b[38;5;241m=\u001b[39m\u001b[38;5;28;01mTrue\u001b[39;00m)\n",
      "File \u001b[1;32m~\\anaconda3\\Lib\\site-packages\\pandas\\util\\_decorators.py:331\u001b[0m, in \u001b[0;36mdeprecate_nonkeyword_arguments.<locals>.decorate.<locals>.wrapper\u001b[1;34m(*args, **kwargs)\u001b[0m\n\u001b[0;32m    325\u001b[0m \u001b[38;5;28;01mif\u001b[39;00m \u001b[38;5;28mlen\u001b[39m(args) \u001b[38;5;241m>\u001b[39m num_allow_args:\n\u001b[0;32m    326\u001b[0m     warnings\u001b[38;5;241m.\u001b[39mwarn(\n\u001b[0;32m    327\u001b[0m         msg\u001b[38;5;241m.\u001b[39mformat(arguments\u001b[38;5;241m=\u001b[39m_format_argument_list(allow_args)),\n\u001b[0;32m    328\u001b[0m         \u001b[38;5;167;01mFutureWarning\u001b[39;00m,\n\u001b[0;32m    329\u001b[0m         stacklevel\u001b[38;5;241m=\u001b[39mfind_stack_level(),\n\u001b[0;32m    330\u001b[0m     )\n\u001b[1;32m--> 331\u001b[0m \u001b[38;5;28;01mreturn\u001b[39;00m func(\u001b[38;5;241m*\u001b[39margs, \u001b[38;5;241m*\u001b[39m\u001b[38;5;241m*\u001b[39mkwargs)\n",
      "File \u001b[1;32m~\\anaconda3\\Lib\\site-packages\\pandas\\core\\frame.py:5399\u001b[0m, in \u001b[0;36mDataFrame.drop\u001b[1;34m(self, labels, axis, index, columns, level, inplace, errors)\u001b[0m\n\u001b[0;32m   5251\u001b[0m \u001b[38;5;129m@deprecate_nonkeyword_arguments\u001b[39m(version\u001b[38;5;241m=\u001b[39m\u001b[38;5;28;01mNone\u001b[39;00m, allowed_args\u001b[38;5;241m=\u001b[39m[\u001b[38;5;124m\"\u001b[39m\u001b[38;5;124mself\u001b[39m\u001b[38;5;124m\"\u001b[39m, \u001b[38;5;124m\"\u001b[39m\u001b[38;5;124mlabels\u001b[39m\u001b[38;5;124m\"\u001b[39m])\n\u001b[0;32m   5252\u001b[0m \u001b[38;5;28;01mdef\u001b[39;00m \u001b[38;5;21mdrop\u001b[39m(  \u001b[38;5;66;03m# type: ignore[override]\u001b[39;00m\n\u001b[0;32m   5253\u001b[0m     \u001b[38;5;28mself\u001b[39m,\n\u001b[1;32m   (...)\u001b[0m\n\u001b[0;32m   5260\u001b[0m     errors: IgnoreRaise \u001b[38;5;241m=\u001b[39m \u001b[38;5;124m\"\u001b[39m\u001b[38;5;124mraise\u001b[39m\u001b[38;5;124m\"\u001b[39m,\n\u001b[0;32m   5261\u001b[0m ) \u001b[38;5;241m-\u001b[39m\u001b[38;5;241m>\u001b[39m DataFrame \u001b[38;5;241m|\u001b[39m \u001b[38;5;28;01mNone\u001b[39;00m:\n\u001b[0;32m   5262\u001b[0m \u001b[38;5;250m    \u001b[39m\u001b[38;5;124;03m\"\"\"\u001b[39;00m\n\u001b[0;32m   5263\u001b[0m \u001b[38;5;124;03m    Drop specified labels from rows or columns.\u001b[39;00m\n\u001b[0;32m   5264\u001b[0m \n\u001b[1;32m   (...)\u001b[0m\n\u001b[0;32m   5397\u001b[0m \u001b[38;5;124;03m            weight  1.0     0.8\u001b[39;00m\n\u001b[0;32m   5398\u001b[0m \u001b[38;5;124;03m    \"\"\"\u001b[39;00m\n\u001b[1;32m-> 5399\u001b[0m     \u001b[38;5;28;01mreturn\u001b[39;00m \u001b[38;5;28msuper\u001b[39m()\u001b[38;5;241m.\u001b[39mdrop(\n\u001b[0;32m   5400\u001b[0m         labels\u001b[38;5;241m=\u001b[39mlabels,\n\u001b[0;32m   5401\u001b[0m         axis\u001b[38;5;241m=\u001b[39maxis,\n\u001b[0;32m   5402\u001b[0m         index\u001b[38;5;241m=\u001b[39mindex,\n\u001b[0;32m   5403\u001b[0m         columns\u001b[38;5;241m=\u001b[39mcolumns,\n\u001b[0;32m   5404\u001b[0m         level\u001b[38;5;241m=\u001b[39mlevel,\n\u001b[0;32m   5405\u001b[0m         inplace\u001b[38;5;241m=\u001b[39minplace,\n\u001b[0;32m   5406\u001b[0m         errors\u001b[38;5;241m=\u001b[39merrors,\n\u001b[0;32m   5407\u001b[0m     )\n",
      "File \u001b[1;32m~\\anaconda3\\Lib\\site-packages\\pandas\\util\\_decorators.py:331\u001b[0m, in \u001b[0;36mdeprecate_nonkeyword_arguments.<locals>.decorate.<locals>.wrapper\u001b[1;34m(*args, **kwargs)\u001b[0m\n\u001b[0;32m    325\u001b[0m \u001b[38;5;28;01mif\u001b[39;00m \u001b[38;5;28mlen\u001b[39m(args) \u001b[38;5;241m>\u001b[39m num_allow_args:\n\u001b[0;32m    326\u001b[0m     warnings\u001b[38;5;241m.\u001b[39mwarn(\n\u001b[0;32m    327\u001b[0m         msg\u001b[38;5;241m.\u001b[39mformat(arguments\u001b[38;5;241m=\u001b[39m_format_argument_list(allow_args)),\n\u001b[0;32m    328\u001b[0m         \u001b[38;5;167;01mFutureWarning\u001b[39;00m,\n\u001b[0;32m    329\u001b[0m         stacklevel\u001b[38;5;241m=\u001b[39mfind_stack_level(),\n\u001b[0;32m    330\u001b[0m     )\n\u001b[1;32m--> 331\u001b[0m \u001b[38;5;28;01mreturn\u001b[39;00m func(\u001b[38;5;241m*\u001b[39margs, \u001b[38;5;241m*\u001b[39m\u001b[38;5;241m*\u001b[39mkwargs)\n",
      "File \u001b[1;32m~\\anaconda3\\Lib\\site-packages\\pandas\\core\\generic.py:4505\u001b[0m, in \u001b[0;36mNDFrame.drop\u001b[1;34m(self, labels, axis, index, columns, level, inplace, errors)\u001b[0m\n\u001b[0;32m   4503\u001b[0m \u001b[38;5;28;01mfor\u001b[39;00m axis, labels \u001b[38;5;129;01min\u001b[39;00m axes\u001b[38;5;241m.\u001b[39mitems():\n\u001b[0;32m   4504\u001b[0m     \u001b[38;5;28;01mif\u001b[39;00m labels \u001b[38;5;129;01mis\u001b[39;00m \u001b[38;5;129;01mnot\u001b[39;00m \u001b[38;5;28;01mNone\u001b[39;00m:\n\u001b[1;32m-> 4505\u001b[0m         obj \u001b[38;5;241m=\u001b[39m obj\u001b[38;5;241m.\u001b[39m_drop_axis(labels, axis, level\u001b[38;5;241m=\u001b[39mlevel, errors\u001b[38;5;241m=\u001b[39merrors)\n\u001b[0;32m   4507\u001b[0m \u001b[38;5;28;01mif\u001b[39;00m inplace:\n\u001b[0;32m   4508\u001b[0m     \u001b[38;5;28mself\u001b[39m\u001b[38;5;241m.\u001b[39m_update_inplace(obj)\n",
      "File \u001b[1;32m~\\anaconda3\\Lib\\site-packages\\pandas\\core\\generic.py:4546\u001b[0m, in \u001b[0;36mNDFrame._drop_axis\u001b[1;34m(self, labels, axis, level, errors, only_slice)\u001b[0m\n\u001b[0;32m   4544\u001b[0m         new_axis \u001b[38;5;241m=\u001b[39m axis\u001b[38;5;241m.\u001b[39mdrop(labels, level\u001b[38;5;241m=\u001b[39mlevel, errors\u001b[38;5;241m=\u001b[39merrors)\n\u001b[0;32m   4545\u001b[0m     \u001b[38;5;28;01melse\u001b[39;00m:\n\u001b[1;32m-> 4546\u001b[0m         new_axis \u001b[38;5;241m=\u001b[39m axis\u001b[38;5;241m.\u001b[39mdrop(labels, errors\u001b[38;5;241m=\u001b[39merrors)\n\u001b[0;32m   4547\u001b[0m     indexer \u001b[38;5;241m=\u001b[39m axis\u001b[38;5;241m.\u001b[39mget_indexer(new_axis)\n\u001b[0;32m   4549\u001b[0m \u001b[38;5;66;03m# Case for non-unique axis\u001b[39;00m\n\u001b[0;32m   4550\u001b[0m \u001b[38;5;28;01melse\u001b[39;00m:\n",
      "File \u001b[1;32m~\\anaconda3\\Lib\\site-packages\\pandas\\core\\indexes\\base.py:6934\u001b[0m, in \u001b[0;36mIndex.drop\u001b[1;34m(self, labels, errors)\u001b[0m\n\u001b[0;32m   6932\u001b[0m \u001b[38;5;28;01mif\u001b[39;00m mask\u001b[38;5;241m.\u001b[39many():\n\u001b[0;32m   6933\u001b[0m     \u001b[38;5;28;01mif\u001b[39;00m errors \u001b[38;5;241m!=\u001b[39m \u001b[38;5;124m\"\u001b[39m\u001b[38;5;124mignore\u001b[39m\u001b[38;5;124m\"\u001b[39m:\n\u001b[1;32m-> 6934\u001b[0m         \u001b[38;5;28;01mraise\u001b[39;00m \u001b[38;5;167;01mKeyError\u001b[39;00m(\u001b[38;5;124mf\u001b[39m\u001b[38;5;124m\"\u001b[39m\u001b[38;5;132;01m{\u001b[39;00m\u001b[38;5;28mlist\u001b[39m(labels[mask])\u001b[38;5;132;01m}\u001b[39;00m\u001b[38;5;124m not found in axis\u001b[39m\u001b[38;5;124m\"\u001b[39m)\n\u001b[0;32m   6935\u001b[0m     indexer \u001b[38;5;241m=\u001b[39m indexer[\u001b[38;5;241m~\u001b[39mmask]\n\u001b[0;32m   6936\u001b[0m \u001b[38;5;28;01mreturn\u001b[39;00m \u001b[38;5;28mself\u001b[39m\u001b[38;5;241m.\u001b[39mdelete(indexer)\n",
      "\u001b[1;31mKeyError\u001b[0m: \"['maquina'] not found in axis\""
     ]
    }
   ],
   "source": [
    "er_limpio.drop('maquina', axis=1, inplace=True)\n",
    "er_limpio.drop('central', axis=1, inplace=True)\n",
    "er_limpio.drop('central_des', axis=1, inplace=True)\n",
    "er_limpio.drop('f_BIOGAS', axis=1, inplace=True)\n",
    "er_limpio.drop('f_BIOMASA', axis=1, inplace=True)\n",
    "er_limpio.drop('f_EOLICO', axis=1, inplace=True)\n",
    "er_limpio.drop('f_HIDRO <=50MW', axis=1, inplace=True)\n",
    "er_limpio.drop('f_SOLAR', axis=1, inplace=True)\n",
    "er_limpio.drop('energia_gen', axis=1, inplace=True)"
   ]
  },
  {
   "cell_type": "code",
   "execution_count": null,
   "id": "d7ae2508",
   "metadata": {},
   "outputs": [],
   "source": [
    "er_limpio"
   ]
  },
  {
   "cell_type": "code",
   "execution_count": null,
   "id": "17a4266e",
   "metadata": {
    "id": "17a4266e"
   },
   "outputs": [],
   "source": [
    "# Acomoda las columnas para que queden mejor ordenadas'\n",
    "er_limpio=er_limpio.reindex(columns = ['anio','mes','region','prov',f_BIODIESEL','energia_gen'])"
   ]
  },
  {
   "cell_type": "code",
   "execution_count": 32,
   "id": "86d58e1c",
   "metadata": {
    "id": "86d58e1c",
    "outputId": "ee2ce8bc-3e06-44d4-a535-8d6cb78e788a",
    "scrolled": true
   },
   "outputs": [
    {
     "data": {
      "text/html": [
       "<div>\n",
       "<style scoped>\n",
       "    .dataframe tbody tr th:only-of-type {\n",
       "        vertical-align: middle;\n",
       "    }\n",
       "\n",
       "    .dataframe tbody tr th {\n",
       "        vertical-align: top;\n",
       "    }\n",
       "\n",
       "    .dataframe thead th {\n",
       "        text-align: right;\n",
       "    }\n",
       "</style>\n",
       "<table border=\"1\" class=\"dataframe\">\n",
       "  <thead>\n",
       "    <tr style=\"text-align: right;\">\n",
       "      <th></th>\n",
       "      <th>anio</th>\n",
       "      <th>region</th>\n",
       "      <th>prov</th>\n",
       "      <th>mes</th>\n",
       "      <th>f_BIODIESEL</th>\n",
       "    </tr>\n",
       "  </thead>\n",
       "  <tbody>\n",
       "    <tr>\n",
       "      <th>0</th>\n",
       "      <td>2011</td>\n",
       "      <td>5</td>\n",
       "      <td>0</td>\n",
       "      <td>1</td>\n",
       "      <td>1</td>\n",
       "    </tr>\n",
       "    <tr>\n",
       "      <th>1</th>\n",
       "      <td>2011</td>\n",
       "      <td>5</td>\n",
       "      <td>0</td>\n",
       "      <td>1</td>\n",
       "      <td>1</td>\n",
       "    </tr>\n",
       "    <tr>\n",
       "      <th>2</th>\n",
       "      <td>2011</td>\n",
       "      <td>8</td>\n",
       "      <td>3</td>\n",
       "      <td>1</td>\n",
       "      <td>0</td>\n",
       "    </tr>\n",
       "    <tr>\n",
       "      <th>3</th>\n",
       "      <td>2011</td>\n",
       "      <td>7</td>\n",
       "      <td>8</td>\n",
       "      <td>1</td>\n",
       "      <td>0</td>\n",
       "    </tr>\n",
       "    <tr>\n",
       "      <th>4</th>\n",
       "      <td>2011</td>\n",
       "      <td>3</td>\n",
       "      <td>9</td>\n",
       "      <td>1</td>\n",
       "      <td>0</td>\n",
       "    </tr>\n",
       "    <tr>\n",
       "      <th>...</th>\n",
       "      <td>...</td>\n",
       "      <td>...</td>\n",
       "      <td>...</td>\n",
       "      <td>...</td>\n",
       "      <td>...</td>\n",
       "    </tr>\n",
       "    <tr>\n",
       "      <th>15842</th>\n",
       "      <td>2023</td>\n",
       "      <td>3</td>\n",
       "      <td>14</td>\n",
       "      <td>6</td>\n",
       "      <td>1</td>\n",
       "    </tr>\n",
       "    <tr>\n",
       "      <th>15843</th>\n",
       "      <td>2023</td>\n",
       "      <td>5</td>\n",
       "      <td>17</td>\n",
       "      <td>6</td>\n",
       "      <td>0</td>\n",
       "    </tr>\n",
       "    <tr>\n",
       "      <th>15844</th>\n",
       "      <td>2023</td>\n",
       "      <td>5</td>\n",
       "      <td>0</td>\n",
       "      <td>6</td>\n",
       "      <td>1</td>\n",
       "    </tr>\n",
       "    <tr>\n",
       "      <th>15845</th>\n",
       "      <td>2023</td>\n",
       "      <td>5</td>\n",
       "      <td>17</td>\n",
       "      <td>6</td>\n",
       "      <td>1</td>\n",
       "    </tr>\n",
       "    <tr>\n",
       "      <th>15846</th>\n",
       "      <td>2023</td>\n",
       "      <td>4</td>\n",
       "      <td>0</td>\n",
       "      <td>6</td>\n",
       "      <td>0</td>\n",
       "    </tr>\n",
       "  </tbody>\n",
       "</table>\n",
       "<p>15847 rows × 5 columns</p>\n",
       "</div>"
      ],
      "text/plain": [
       "       anio  region  prov  mes  f_BIODIESEL\n",
       "0      2011       5     0    1            1\n",
       "1      2011       5     0    1            1\n",
       "2      2011       8     3    1            0\n",
       "3      2011       7     8    1            0\n",
       "4      2011       3     9    1            0\n",
       "...     ...     ...   ...  ...          ...\n",
       "15842  2023       3    14    6            1\n",
       "15843  2023       5    17    6            0\n",
       "15844  2023       5     0    6            1\n",
       "15845  2023       5    17    6            1\n",
       "15846  2023       4     0    6            0\n",
       "\n",
       "[15847 rows x 5 columns]"
      ]
     },
     "execution_count": 32,
     "metadata": {},
     "output_type": "execute_result"
    }
   ],
   "source": [
    "er_limpio"
   ]
  },
  {
   "cell_type": "code",
   "execution_count": 14,
   "id": "d1f1eac5",
   "metadata": {},
   "outputs": [],
   "source": [
    "# Guardamos el nuevo dataset con sólo una fuente de energía\n",
    "er_limpio.to_csv('er_limpio_biodiesel.csv')"
   ]
  }
 ],
 "metadata": {
  "colab": {
   "provenance": []
  },
  "kernelspec": {
   "display_name": "Python 3 (ipykernel)",
   "language": "python",
   "name": "python3"
  },
  "language_info": {
   "codemirror_mode": {
    "name": "ipython",
    "version": 3
   },
   "file_extension": ".py",
   "mimetype": "text/x-python",
   "name": "python",
   "nbconvert_exporter": "python",
   "pygments_lexer": "ipython3",
   "version": "3.11.4"
  }
 },
 "nbformat": 4,
 "nbformat_minor": 5
}
